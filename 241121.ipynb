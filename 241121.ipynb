{
 "cells": [
  {
   "cell_type": "code",
   "execution_count": 1,
   "metadata": {},
   "outputs": [
    {
     "ename": "ModuleNotFoundError",
     "evalue": "No module named 'mplfinance'",
     "output_type": "error",
     "traceback": [
      "\u001b[0;31m---------------------------------------------------------------------------\u001b[0m",
      "\u001b[0;31mModuleNotFoundError\u001b[0m                       Traceback (most recent call last)",
      "Cell \u001b[0;32mIn[1], line 4\u001b[0m\n\u001b[1;32m      2\u001b[0m \u001b[38;5;28;01mimport\u001b[39;00m \u001b[38;5;21;01mmatplotlib\u001b[39;00m\u001b[38;5;21;01m.\u001b[39;00m\u001b[38;5;21;01mfont_manager\u001b[39;00m \u001b[38;5;28;01mas\u001b[39;00m \u001b[38;5;21;01mfm\u001b[39;00m\n\u001b[1;32m      3\u001b[0m \u001b[38;5;28;01mimport\u001b[39;00m \u001b[38;5;21;01mpandas\u001b[39;00m \u001b[38;5;28;01mas\u001b[39;00m \u001b[38;5;21;01mpd\u001b[39;00m\n\u001b[0;32m----> 4\u001b[0m \u001b[38;5;28;01mimport\u001b[39;00m \u001b[38;5;21;01mmplfinance\u001b[39;00m \u001b[38;5;28;01mas\u001b[39;00m \u001b[38;5;21;01mmpf\u001b[39;00m\n\u001b[1;32m      6\u001b[0m \u001b[38;5;66;03m# mplfinance 스타일 설정\u001b[39;00m\n\u001b[1;32m      7\u001b[0m style \u001b[38;5;241m=\u001b[39m mpf\u001b[38;5;241m.\u001b[39mmake_mpf_style(\n\u001b[1;32m      8\u001b[0m     base_mpf_style\u001b[38;5;241m=\u001b[39m\u001b[38;5;124m'\u001b[39m\u001b[38;5;124mbinance\u001b[39m\u001b[38;5;124m'\u001b[39m,\n\u001b[1;32m      9\u001b[0m     gridstyle\u001b[38;5;241m=\u001b[39m\u001b[38;5;124m'\u001b[39m\u001b[38;5;124m-\u001b[39m\u001b[38;5;124m'\u001b[39m,\n\u001b[0;32m   (...)\u001b[0m\n\u001b[1;32m     20\u001b[0m     }\n\u001b[1;32m     21\u001b[0m )\n",
      "\u001b[0;31mModuleNotFoundError\u001b[0m: No module named 'mplfinance'"
     ]
    }
   ],
   "source": [
    "import matplotlib.pyplot as plt\n",
    "import matplotlib.font_manager as fm\n",
    "import pandas as pd\n",
    "import mplfinance as mpf\n",
    "\n",
    "# mplfinance 스타일 설정\n",
    "style = mpf.make_mpf_style(\n",
    "    base_mpf_style='binance',\n",
    "    gridstyle='-',\n",
    "    gridcolor='#E6E6E6',  # 연한 회색 그리드\n",
    "    rc={\n",
    "        'font.family': 'Malgun Gothic',\n",
    "        'axes.unicode_minus': False,\n",
    "        'axes.grid': True,\n",
    "        # 'axes.facecolor': '#F0F0F0',\n",
    "        # 'figure.facecolor': 'white',\n",
    "        # 'axes.labelcolor': 'black',\n",
    "        # 'xtick.color': 'black',\n",
    "        # 'ytick.color': 'black'\n",
    "    }\n",
    ")\n",
    "\n",
    "# Your existing code\n",
    "df = pd.read_csv('./goorm_ai_local/SPY_20110701_20120630_Bollinger.csv', index_col=0, parse_dates=True)\n",
    "add_plot= [mpf.make_addplot(df['LowerB'], type='scatter',\n",
    "                 label=\"추가된 scatter\", title=\"한글폰트\")]\n",
    "mpf.plot(df, \n",
    "         style=style,\n",
    "         addplot=add_plot, \n",
    "         title=\"한글폰트가 적용된 차트\",\n",
    "         volume=True)\n",
    "\n",
    "# Plotting code\n",
    "apd = mpf.make_addplot(df['LowerB'], type='scatter',\n",
    "                       label=\"추가된 scatter\", title=\"한글폰트\")\n",
    "mpf.plot(df, \n",
    "         style=style,\n",
    "         addplot=apd, \n",
    "         title=\"한글폰트가 적용된 차트\",\n",
    "         volume=True)"
   ]
  }
 ],
 "metadata": {
  "kernelspec": {
   "display_name": "Python 3",
   "language": "python",
   "name": "python3"
  },
  "language_info": {
   "codemirror_mode": {
    "name": "ipython",
    "version": 3
   },
   "file_extension": ".py",
   "mimetype": "text/x-python",
   "name": "python",
   "nbconvert_exporter": "python",
   "pygments_lexer": "ipython3",
   "version": "3.12.0"
  }
 },
 "nbformat": 4,
 "nbformat_minor": 2
}
