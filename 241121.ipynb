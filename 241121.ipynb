{
 "cells": [
  {
   "cell_type": "code",
   "execution_count": null,
   "metadata": {},
   "outputs": [],
   "source": [
    "# list tuple set dictionary\n",
    "\n",
    "[1, 2, 3 ]"
   ]
  },
  {
   "cell_type": "code",
   "execution_count": null,
   "metadata": {},
   "outputs": [],
   "source": [
    "from matplotlib import font_manager, rc\n",
    "font_path = \"C:/Windows/Fonts/NGULIM.TTF\"\n",
    "font = font_manager.FontProperties(fname=font_path).get_name()\n",
    "rc('font', family=font)\n",
    "\n",
    "# Your existing code\n",
    "df = pd.read_csv('./SPY_20110701_20120630_Bollinger.csv',\n",
    "                 index_col=0, parse_dates=True)\n",
    "mpf.make_addplot(df['LowerB'], type='scatter',\n",
    "                 label=\"추가된 scatter\", title=\"한글폰트\")\n",
    "\n",
    "# Plotting code\n",
    "apd = mpf.make_addplot(df['LowerB'], type='scatter',\n",
    "                       label=\"추가된 scatter\", title=\"한글폰트\"\n",
    "                       )\n",
    "mpf.plot(df, addplot=apd, title=\"한글폰트가 적용된 차트\")"
   ]
  }
 ],
 "metadata": {
  "kernelspec": {
   "display_name": "virt",
   "language": "python",
   "name": "python3"
  },
  "language_info": {
   "name": "python",
   "version": "3.12.7"
  }
 },
 "nbformat": 4,
 "nbformat_minor": 2
}
