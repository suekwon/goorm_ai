{
 "cells": [
  {
   "cell_type": "code",
   "execution_count": 66,
   "metadata": {},
   "outputs": [],
   "source": [
    "# list\n",
    "a = [1,2 ,3 ,5 , 10, 20, 17, 5, 9]\n",
    "n = ['a', 'b', 'c']\n",
    "p = ['a', 1, 'b', 2, 'c', 3]\n",
    "k = [1, 2, 3, ['a', 'b', 'c']]"
   ]
  },
  {
   "cell_type": "code",
   "execution_count": 68,
   "metadata": {},
   "outputs": [
    {
     "data": {
      "text/plain": [
       "0"
      ]
     },
     "execution_count": 68,
     "metadata": {},
     "output_type": "execute_result"
    }
   ],
   "source": [
    "n.append(1)\n",
    "len(n)\n",
    "n.index('a')"
   ]
  },
  {
   "cell_type": "code",
   "execution_count": 27,
   "metadata": {},
   "outputs": [
    {
     "name": "stdout",
     "output_type": "stream",
     "text": [
      "count of 5: 2\n",
      "indTrueex of 3: 5\n"
     ]
    }
   ],
   "source": [
    "# 리스트 요소 개수 세기\n",
    "count_of_2 = a.count(5)  # 요소 2의 개수 세기\n",
    "print(\"count of 5:\", count_of_2)\n",
    "\n",
    "# 리스트 인덱스 찾기\n",
    "index_of_3 = a.index(20)  # 요소 3의 인덱스 찾기\n",
    "print(\"indTrueex of 3:\", index_of_3)"
   ]
  },
  {
   "cell_type": "code",
   "execution_count": 15,
   "metadata": {},
   "outputs": [
    {
     "name": "stdout",
     "output_type": "stream",
     "text": [
      "sort: [1, 2, 3, 5, 5, 9, 10, 17, 20]\n",
      "sort reverse: [20, 17, 10, 9, 5, 5, 3, 2, 1]\n"
     ]
    }
   ],
   "source": [
    "# 리스트 정렬\n",
    "a.sort()  # 오름차순 정렬\n",
    "print(\"sort:\", a)\n",
    "\n",
    "# 리스트 역순 정렬\n",
    "a.sort(reverse=True)  # 내림차순 정렬\n",
    "print(\"sort reverse:\", a)"
   ]
  },
  {
   "cell_type": "code",
   "execution_count": 13,
   "metadata": {},
   "outputs": [
    {
     "data": {
      "text/plain": [
       "3"
      ]
     },
     "execution_count": 13,
     "metadata": {},
     "output_type": "execute_result"
    }
   ],
   "source": [
    "p[:3] # ['a', 1, 'b']\n",
    "p[-1]\n",
    "p*2\n",
    "a*2\n",
    "len(k)\n",
    "len(k[-1])"
   ]
  },
  {
   "cell_type": "code",
   "execution_count": null,
   "metadata": {},
   "outputs": [],
   "source": [
    "# 리스트 관련 주요 함수들\n",
    "\n",
    "# 리스트에 요소 추가\n",
    "a.append(6)  # 리스트의 끝에 요소 추가\n",
    "print(\"append:\", a)\n",
    "\n",
    "# 리스트 확장\n",
    "a.extend([7, 8])  # 리스트에 여러 요소 추가\n",
    "print(\"extend:\", a)\n",
    "\n",
    "# 특정 위치에 요소 삽입\n",
    "a.insert(2, 9)  # 인덱스 2에 요소 9 삽입\n",
    "print(\"insert:\", a)\n",
    "\n",
    "# 특정 요소 제거\n",
    "a.remove(9)  # 첫 번째로 나오는 요소 9 제거\n",
    "print(\"remove:\", a)\n",
    "\n",
    "# 마지막 요소 제거 및 반환\n",
    "last_element = a.pop()  # 마지막 요소 제거\n",
    "print(\"pop:\", a, \"removed element:\", last_element)\n",
    "\n",
    "# 특정 위치의 요소 제거 및 반환\n",
    "second_element = a.pop(1)  # 인덱스 1의 요소 제거\n",
    "print(\"pop with index:\", a, \"removed element:\", second_element)\n",
    "\n",
    "# 리스트 정렬\n",
    "a.sort()  # 오름차순 정렬\n",
    "print(\"sort:\", a)\n",
    "\n",
    "# 리스트 역순 정렬\n",
    "a.sort(reverse=)  # 내림차순 정렬\n",
    "print(\"sort reverse:\", a)\n",
    "\n",
    "# 리스트 뒤집기\n",
    "a.reverse()  # 리스트 요소 순서 뒤집기\n",
    "print(\"reverse:\", a)\n",
    "\n",
    "# 리스트 복사\n",
    "a_copy = a.copy()  # 리스트 복사\n",
    "print(\"copy:\", a_copy)\n",
    "\n",
    "# 리스트 요소 개수 세기\n",
    "count_of_2 = a.count(2)  # 요소 2의 개수 세기\n",
    "print(\"count of 2:\", count_of_2)\n",
    "\n",
    "# 리스트 인덱스 찾기\n",
    "index_of_3 = a.index(3)  # 요소 3의 인덱스 찾기\n",
    "print(\"indTrueex of 3:\", index_of_3)\n",
    "\n",
    "# 리스트 초기화\n",
    "a.clear()  # 리스트 모든 요소 제거\n",
    "print(\"clear:\", a)"
   ]
  },
  {
   "cell_type": "code",
   "execution_count": 8,
   "metadata": {},
   "outputs": [
    {
     "data": {
      "text/plain": [
       "'&#'"
      ]
     },
     "execution_count": 8,
     "metadata": {},
     "output_type": "execute_result"
    }
   ],
   "source": [
    "\"&\"+ \"#\""
   ]
  },
  {
   "cell_type": "code",
   "execution_count": null,
   "metadata": {},
   "outputs": [
    {
     "data": {
      "text/plain": [
       "(1, 2)"
      ]
     },
     "execution_count": 39,
     "metadata": {},
     "output_type": "execute_result"
    }
   ],
   "source": [
    "# tuple\n",
    "t = (1, 2, 3)\n",
    "t[:-1]\n",
    "# type(a)"
   ]
  },
  {
   "cell_type": "code",
   "execution_count": 47,
   "metadata": {},
   "outputs": [
    {
     "name": "stdout",
     "output_type": "stream",
     "text": [
      "python\n",
      "10\n"
     ]
    }
   ],
   "source": [
    "# dictionary\n",
    "python = {'name': 'python', 'points': 10}\n",
    "# type(python)\n",
    "len(python)\n",
    "python.keys()\n",
    "python['name']\n",
    "python['points']\n",
    "python.values()\n",
    "for idx in python.keys():\n",
    "    print(python[idx])\n",
    "    "
   ]
  },
  {
   "cell_type": "code",
   "execution_count": 48,
   "metadata": {},
   "outputs": [
    {
     "name": "stdout",
     "output_type": "stream",
     "text": [
      "{1, 2, 3, 4, 5, 6, 7, 8}\n",
      "{3, 4, 5}\n"
     ]
    }
   ],
   "source": [
    "# set\n",
    "\n",
    "s = {1, 2, 3, 4, 5}\n",
    "r = {3, 4, 5, 6, 7, 8}\n",
    "\n",
    "print(s.union(r))\n",
    "print(s.intersection(r))"
   ]
  },
  {
   "cell_type": "code",
   "execution_count": null,
   "metadata": {},
   "outputs": [
    {
     "name": "stdout",
     "output_type": "stream",
     "text": [
      "20\n",
      "18\n"
     ]
    },
    {
     "data": {
      "text/plain": [
       "' Hello ICT Academy Gen AI!! '"
      ]
     },
     "execution_count": 56,
     "metadata": {},
     "output_type": "execute_result"
    }
   ],
   "source": [
    "str = \" Hello ICT Gen AI!! \"\n",
    "print(len(str))\n",
    "print(len(str.strip()))\n",
    "str.lstrip()\n",
    "str.replace(\"ICT\", \"ICT Academy\")"
   ]
  },
  {
   "cell_type": "code",
   "execution_count": 62,
   "metadata": {},
   "outputs": [
    {
     "data": {
      "text/plain": [
       "'python'"
      ]
     },
     "execution_count": 62,
     "metadata": {},
     "output_type": "execute_result"
    }
   ],
   "source": [
    "data = 'pithon'\n",
    "data.replace('i', 'y')\n",
    "data = data.replace('i', 'y')\n",
    "data"
   ]
  },
  {
   "cell_type": "code",
   "execution_count": 65,
   "metadata": {},
   "outputs": [
    {
     "data": {
      "text/plain": [
       "'goorm.com'"
      ]
     },
     "execution_count": 65,
     "metadata": {},
     "output_type": "execute_result"
    }
   ],
   "source": [
    "user = \"abc@goorm.com\"\n",
    "user.split('@')[1]"
   ]
  },
  {
   "cell_type": "code",
   "execution_count": null,
   "metadata": {},
   "outputs": [],
   "source": []
  }
 ],
 "metadata": {
  "kernelspec": {
   "display_name": "Python 3",
   "language": "python",
   "name": "python3"
  },
  "language_info": {
   "codemirror_mode": {
    "name": "ipython",
    "version": 3
   },
   "file_extension": ".py",
   "mimetype": "text/x-python",
   "name": "python",
   "nbconvert_exporter": "python",
   "pygments_lexer": "ipython3",
   "version": "3.12.0"
  }
 },
 "nbformat": 4,
 "nbformat_minor": 2
}
